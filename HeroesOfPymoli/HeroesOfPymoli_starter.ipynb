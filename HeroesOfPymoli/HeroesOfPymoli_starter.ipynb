{
 "cells": [
  {
   "cell_type": "markdown",
   "metadata": {},
   "source": [
    "### Heroes Of Pymoli Data Analysis\n",
    "* Of the 1163 active players, the vast majority are male (84%). There also exists, a smaller, but notable proportion of female players (14%).\n",
    "\n",
    "* Our peak age demographic falls between 20-24 (44.8%) with secondary groups falling between 15-19 (18.60%) and 25-29 (13.4%).  \n",
    "-----"
   ]
  },
  {
   "cell_type": "markdown",
   "metadata": {},
   "source": [
    "### Note\n",
    "* Instructions have been included for each segment. You do not have to follow them exactly, but they are included to help you think through the steps."
   ]
  },
  {
   "cell_type": "code",
   "execution_count": 3,
   "metadata": {},
   "outputs": [
    {
     "data": {
      "text/html": [
       "<div>\n",
       "<style scoped>\n",
       "    .dataframe tbody tr th:only-of-type {\n",
       "        vertical-align: middle;\n",
       "    }\n",
       "\n",
       "    .dataframe tbody tr th {\n",
       "        vertical-align: top;\n",
       "    }\n",
       "\n",
       "    .dataframe thead th {\n",
       "        text-align: right;\n",
       "    }\n",
       "</style>\n",
       "<table border=\"1\" class=\"dataframe\">\n",
       "  <thead>\n",
       "    <tr style=\"text-align: right;\">\n",
       "      <th></th>\n",
       "      <th>Purchase ID</th>\n",
       "      <th>SN</th>\n",
       "      <th>Age</th>\n",
       "      <th>Gender</th>\n",
       "      <th>Item ID</th>\n",
       "      <th>Item Name</th>\n",
       "      <th>Price</th>\n",
       "    </tr>\n",
       "  </thead>\n",
       "  <tbody>\n",
       "    <tr>\n",
       "      <th>0</th>\n",
       "      <td>0</td>\n",
       "      <td>Lisim78</td>\n",
       "      <td>20</td>\n",
       "      <td>Male</td>\n",
       "      <td>108</td>\n",
       "      <td>Extraction, Quickblade Of Trembling Hands</td>\n",
       "      <td>3.53</td>\n",
       "    </tr>\n",
       "    <tr>\n",
       "      <th>1</th>\n",
       "      <td>1</td>\n",
       "      <td>Lisovynya38</td>\n",
       "      <td>40</td>\n",
       "      <td>Male</td>\n",
       "      <td>143</td>\n",
       "      <td>Frenzied Scimitar</td>\n",
       "      <td>1.56</td>\n",
       "    </tr>\n",
       "    <tr>\n",
       "      <th>2</th>\n",
       "      <td>2</td>\n",
       "      <td>Ithergue48</td>\n",
       "      <td>24</td>\n",
       "      <td>Male</td>\n",
       "      <td>92</td>\n",
       "      <td>Final Critic</td>\n",
       "      <td>4.88</td>\n",
       "    </tr>\n",
       "    <tr>\n",
       "      <th>3</th>\n",
       "      <td>3</td>\n",
       "      <td>Chamassasya86</td>\n",
       "      <td>24</td>\n",
       "      <td>Male</td>\n",
       "      <td>100</td>\n",
       "      <td>Blindscythe</td>\n",
       "      <td>3.27</td>\n",
       "    </tr>\n",
       "    <tr>\n",
       "      <th>4</th>\n",
       "      <td>4</td>\n",
       "      <td>Iskosia90</td>\n",
       "      <td>23</td>\n",
       "      <td>Male</td>\n",
       "      <td>131</td>\n",
       "      <td>Fury</td>\n",
       "      <td>1.44</td>\n",
       "    </tr>\n",
       "  </tbody>\n",
       "</table>\n",
       "</div>"
      ],
      "text/plain": [
       "   Purchase ID             SN  Age Gender  Item ID  \\\n",
       "0            0        Lisim78   20   Male      108   \n",
       "1            1    Lisovynya38   40   Male      143   \n",
       "2            2     Ithergue48   24   Male       92   \n",
       "3            3  Chamassasya86   24   Male      100   \n",
       "4            4      Iskosia90   23   Male      131   \n",
       "\n",
       "                                   Item Name  Price  \n",
       "0  Extraction, Quickblade Of Trembling Hands   3.53  \n",
       "1                          Frenzied Scimitar   1.56  \n",
       "2                               Final Critic   4.88  \n",
       "3                                Blindscythe   3.27  \n",
       "4                                       Fury   1.44  "
      ]
     },
     "execution_count": 3,
     "metadata": {},
     "output_type": "execute_result"
    }
   ],
   "source": [
    "#Dependencies and Setup\n",
    "import pandas as pd\n",
    "\n",
    "#File to Load (Remember to Change These)\n",
    "file_to_load = \"Resources/purchase_data.csv\"\n",
    "\n",
    "#Read Purchasing File and store into Pandas data frame\n",
    "pDataDf = pd.read_csv(file_to_load)\n",
    "\n",
    "#Show head to see the sample of the data\n",
    "pDataDf.head()\n"
   ]
  },
  {
   "cell_type": "markdown",
   "metadata": {},
   "source": [
    "## Player Count"
   ]
  },
  {
   "cell_type": "markdown",
   "metadata": {},
   "source": [
    "* Display the total number of players\n"
   ]
  },
  {
   "cell_type": "code",
   "execution_count": 4,
   "metadata": {},
   "outputs": [
    {
     "data": {
      "text/html": [
       "<div>\n",
       "<style scoped>\n",
       "    .dataframe tbody tr th:only-of-type {\n",
       "        vertical-align: middle;\n",
       "    }\n",
       "\n",
       "    .dataframe tbody tr th {\n",
       "        vertical-align: top;\n",
       "    }\n",
       "\n",
       "    .dataframe thead th {\n",
       "        text-align: right;\n",
       "    }\n",
       "</style>\n",
       "<table border=\"1\" class=\"dataframe\">\n",
       "  <thead>\n",
       "    <tr style=\"text-align: right;\">\n",
       "      <th></th>\n",
       "      <th>Total Players</th>\n",
       "    </tr>\n",
       "  </thead>\n",
       "  <tbody>\n",
       "    <tr>\n",
       "      <th>0</th>\n",
       "      <td>576</td>\n",
       "    </tr>\n",
       "  </tbody>\n",
       "</table>\n",
       "</div>"
      ],
      "text/plain": [
       "   Total Players\n",
       "0            576"
      ]
     },
     "execution_count": 4,
     "metadata": {},
     "output_type": "execute_result"
    }
   ],
   "source": [
    "#Calculate Total Player\n",
    "#Use len to do the count of the data\n",
    "tPlayers = len(pDataDf[\"SN\"].value_counts())\n",
    "\n",
    "pCounts = pd.DataFrame({\"Total Players\":[tPlayers]})\n",
    "pCounts"
   ]
  },
  {
   "cell_type": "markdown",
   "metadata": {},
   "source": [
    "## Purchasing Analysis (Total)"
   ]
  },
  {
   "cell_type": "markdown",
   "metadata": {},
   "source": [
    "* Run basic calculations to obtain number of unique items, average price, etc.\n",
    "\n",
    "\n",
    "* Create a summary data frame to hold the results\n",
    "\n",
    "\n",
    "* Optional: give the displayed data cleaner formatting\n",
    "\n",
    "\n",
    "* Display the summary data frame\n"
   ]
  },
  {
   "cell_type": "code",
   "execution_count": 5,
   "metadata": {
    "scrolled": true
   },
   "outputs": [
    {
     "data": {
      "text/html": [
       "<style  type=\"text/css\" >\n",
       "</style><table id=\"T_b47de050_879c_11ea_92c0_305a3a896b44\" ><thead>    <tr>        <th class=\"blank level0\" ></th>        <th class=\"col_heading level0 col0\" >Number of Unique Items</th>        <th class=\"col_heading level0 col1\" >Average Price</th>        <th class=\"col_heading level0 col2\" >Number of Purchases</th>        <th class=\"col_heading level0 col3\" >Total Purchases</th>    </tr></thead><tbody>\n",
       "                <tr>\n",
       "                        <th id=\"T_b47de050_879c_11ea_92c0_305a3a896b44level0_row0\" class=\"row_heading level0 row0\" >0</th>\n",
       "                        <td id=\"T_b47de050_879c_11ea_92c0_305a3a896b44row0_col0\" class=\"data row0 col0\" >179</td>\n",
       "                        <td id=\"T_b47de050_879c_11ea_92c0_305a3a896b44row0_col1\" class=\"data row0 col1\" >$3.05</td>\n",
       "                        <td id=\"T_b47de050_879c_11ea_92c0_305a3a896b44row0_col2\" class=\"data row0 col2\" >780</td>\n",
       "                        <td id=\"T_b47de050_879c_11ea_92c0_305a3a896b44row0_col3\" class=\"data row0 col3\" >$2,379.77</td>\n",
       "            </tr>\n",
       "    </tbody></table>"
      ],
      "text/plain": [
       "<pandas.io.formats.style.Styler at 0x194f15621c8>"
      ]
     },
     "execution_count": 5,
     "metadata": {},
     "output_type": "execute_result"
    }
   ],
   "source": [
    "#Calculation of the data\n",
    "nUniqueitems = len(pDataDf['Item Name'].value_counts())\n",
    "avgPP = pDataDf['Price'].mean()\n",
    "tPurchases = pDataDf['Price'].sum()\n",
    "\n",
    "#Put data into a frame\n",
    "pAnalysisDF = pd.DataFrame({'Number of Unique Items':[nUniqueitems],\n",
    "             'Average Price':[avgPP],\n",
    "             'Number of Purchases': [len(pDataDf)],\n",
    "             'Total Purchases':[tPurchases]})\n",
    "pAnalysisDF\n",
    "\n",
    "#Add $ sign\n",
    "pAnalysisDF.style.format({'Average Price': '${:.2f}', 'Total Purchases': '${:,.2f}'})"
   ]
  },
  {
   "cell_type": "markdown",
   "metadata": {},
   "source": [
    "## Gender Demographics"
   ]
  },
  {
   "cell_type": "markdown",
   "metadata": {},
   "source": [
    "* Percentage and Count of Male Players\n",
    "\n",
    "\n",
    "* Percentage and Count of Female Players\n",
    "\n",
    "\n",
    "* Percentage and Count of Other / Non-Disclosed\n",
    "\n",
    "\n"
   ]
  },
  {
   "cell_type": "code",
   "execution_count": 6,
   "metadata": {},
   "outputs": [
    {
     "data": {
      "text/html": [
       "<div>\n",
       "<style scoped>\n",
       "    .dataframe tbody tr th:only-of-type {\n",
       "        vertical-align: middle;\n",
       "    }\n",
       "\n",
       "    .dataframe tbody tr th {\n",
       "        vertical-align: top;\n",
       "    }\n",
       "\n",
       "    .dataframe thead th {\n",
       "        text-align: right;\n",
       "    }\n",
       "</style>\n",
       "<table border=\"1\" class=\"dataframe\">\n",
       "  <thead>\n",
       "    <tr style=\"text-align: right;\">\n",
       "      <th></th>\n",
       "      <th>Total count</th>\n",
       "      <th>Percentage of Players</th>\n",
       "    </tr>\n",
       "  </thead>\n",
       "  <tbody>\n",
       "    <tr>\n",
       "      <th>Male</th>\n",
       "      <td>484</td>\n",
       "      <td>84.03%</td>\n",
       "    </tr>\n",
       "    <tr>\n",
       "      <th>Female</th>\n",
       "      <td>81</td>\n",
       "      <td>14.06%</td>\n",
       "    </tr>\n",
       "    <tr>\n",
       "      <th>Others/Non-Disclosed</th>\n",
       "      <td>11</td>\n",
       "      <td>1.91%</td>\n",
       "    </tr>\n",
       "  </tbody>\n",
       "</table>\n",
       "</div>"
      ],
      "text/plain": [
       "                      Total count Percentage of Players\n",
       "Male                          484                84.03%\n",
       "Female                         81                14.06%\n",
       "Others/Non-Disclosed           11                 1.91%"
      ]
     },
     "execution_count": 6,
     "metadata": {},
     "output_type": "execute_result"
    }
   ],
   "source": [
    "#Use drop_duplicates to drop all the same Gender and SN \n",
    "#Do declare and do calculation\n",
    "gender = pDataDf[['SN', 'Gender']]\n",
    "gData = gender.drop_duplicates()\n",
    "gCounts = gData['Gender'].value_counts()\n",
    "\n",
    "totalC = gCounts.sum()\n",
    "pMale = gCounts[0]/totalC*100\n",
    "pFemale = gCounts[1]/totalC*100\n",
    "pOthers = gCounts[2]/totalC*100\n",
    "\n",
    "gDemographics = pd.DataFrame({\"Total count\":[gCounts[0], gCounts[1], gCounts[2]],\n",
    "                            \"Percentage of Players\":[pMale, pFemale, pOthers]})\n",
    "gDemographics.index = ([\"Male\", \"Female\", \"Others/Non-Disclosed\"])\n",
    "gDemographics[\"Percentage of Players\"] = gDemographics[\"Percentage of Players\"].map(\"{:.2f}%\".format)\n",
    "gDemographics"
   ]
  },
  {
   "cell_type": "markdown",
   "metadata": {},
   "source": [
    "\n",
    "## Purchasing Analysis (Gender)"
   ]
  },
  {
   "cell_type": "markdown",
   "metadata": {},
   "source": [
    "* Run basic calculations to obtain purchase count, avg. purchase price, avg. purchase total per person etc. by gender\n",
    "\n",
    "\n",
    "\n",
    "\n",
    "* Create a summary data frame to hold the results\n",
    "\n",
    "\n",
    "* Optional: give the displayed data cleaner formatting\n",
    "\n",
    "\n",
    "* Display the summary data frame"
   ]
  },
  {
   "cell_type": "code",
   "execution_count": 7,
   "metadata": {},
   "outputs": [
    {
     "data": {
      "text/html": [
       "<style  type=\"text/css\" >\n",
       "</style><table id=\"T_20ef9370_879d_11ea_85c9_305a3a896b44\" ><thead>    <tr>        <th class=\"blank level0\" ></th>        <th class=\"col_heading level0 col0\" >Purchase Count</th>        <th class=\"col_heading level0 col1\" >Average Purchase Price</th>        <th class=\"col_heading level0 col2\" >Total Purchase Value</th>        <th class=\"col_heading level0 col3\" >Avg Total Purchase Per Person</th>    </tr>    <tr>        <th class=\"index_name level0\" >Gender</th>        <th class=\"blank\" ></th>        <th class=\"blank\" ></th>        <th class=\"blank\" ></th>        <th class=\"blank\" ></th>    </tr></thead><tbody>\n",
       "                <tr>\n",
       "                        <th id=\"T_20ef9370_879d_11ea_85c9_305a3a896b44level0_row0\" class=\"row_heading level0 row0\" >Female</th>\n",
       "                        <td id=\"T_20ef9370_879d_11ea_85c9_305a3a896b44row0_col0\" class=\"data row0 col0\" >113</td>\n",
       "                        <td id=\"T_20ef9370_879d_11ea_85c9_305a3a896b44row0_col1\" class=\"data row0 col1\" >$3.20</td>\n",
       "                        <td id=\"T_20ef9370_879d_11ea_85c9_305a3a896b44row0_col2\" class=\"data row0 col2\" >$361.94</td>\n",
       "                        <td id=\"T_20ef9370_879d_11ea_85c9_305a3a896b44row0_col3\" class=\"data row0 col3\" >$4.47</td>\n",
       "            </tr>\n",
       "            <tr>\n",
       "                        <th id=\"T_20ef9370_879d_11ea_85c9_305a3a896b44level0_row1\" class=\"row_heading level0 row1\" >Male</th>\n",
       "                        <td id=\"T_20ef9370_879d_11ea_85c9_305a3a896b44row1_col0\" class=\"data row1 col0\" >652</td>\n",
       "                        <td id=\"T_20ef9370_879d_11ea_85c9_305a3a896b44row1_col1\" class=\"data row1 col1\" >$3.02</td>\n",
       "                        <td id=\"T_20ef9370_879d_11ea_85c9_305a3a896b44row1_col2\" class=\"data row1 col2\" >$1,967.64</td>\n",
       "                        <td id=\"T_20ef9370_879d_11ea_85c9_305a3a896b44row1_col3\" class=\"data row1 col3\" >$4.07</td>\n",
       "            </tr>\n",
       "            <tr>\n",
       "                        <th id=\"T_20ef9370_879d_11ea_85c9_305a3a896b44level0_row2\" class=\"row_heading level0 row2\" >Other / Non-Disclosed</th>\n",
       "                        <td id=\"T_20ef9370_879d_11ea_85c9_305a3a896b44row2_col0\" class=\"data row2 col0\" >15</td>\n",
       "                        <td id=\"T_20ef9370_879d_11ea_85c9_305a3a896b44row2_col1\" class=\"data row2 col1\" >$3.35</td>\n",
       "                        <td id=\"T_20ef9370_879d_11ea_85c9_305a3a896b44row2_col2\" class=\"data row2 col2\" >$50.19</td>\n",
       "                        <td id=\"T_20ef9370_879d_11ea_85c9_305a3a896b44row2_col3\" class=\"data row2 col3\" >$4.56</td>\n",
       "            </tr>\n",
       "    </tbody></table>"
      ],
      "text/plain": [
       "<pandas.io.formats.style.Styler at 0x194f23ffcc8>"
      ]
     },
     "execution_count": 7,
     "metadata": {},
     "output_type": "execute_result"
    }
   ],
   "source": [
    "#Purchasing Analysis (Gender)\n",
    "purchaseGender = pDataDf.groupby(['Gender'])\n",
    "\n",
    "#Do calculation on the data of purchase for gender: count, mean, sum\n",
    "puCounts = purchaseGender['Price'].count()\n",
    "priceMean = purchaseGender['Price'].mean()\n",
    "totalPu = purchaseGender['Price'].sum()\n",
    "\n",
    "#AveragePP = totalPu/puCounts\n",
    "averageToPP = totalPu/gCounts\n",
    "\n",
    "puAnalysisDF = pd.DataFrame({'Purchase Count': puCounts,\n",
    "                            'Average Purchase Price': priceMean,\n",
    "                            'Total Purchase Value': totalPu,\n",
    "                            'Avg Total Purchase Per Person': averageToPP})\n",
    "#Add $ sign \n",
    "puAnalysisDF.style.format({'Average Purchase Price': '${:.2f}', \n",
    "                           'Total Purchase Value': '${:,.2f}', \n",
    "                           'Avg Total Purchase Per Person': '${:,.2f}'})"
   ]
  },
  {
   "cell_type": "markdown",
   "metadata": {},
   "source": [
    "## Age Demographics"
   ]
  },
  {
   "cell_type": "markdown",
   "metadata": {},
   "source": [
    "* Establish bins for ages\n",
    "\n",
    "\n",
    "* Categorize the existing players using the age bins. Hint: use pd.cut()\n",
    "\n",
    "\n",
    "* Calculate the numbers and percentages by age group\n",
    "\n",
    "\n",
    "* Create a summary data frame to hold the results\n",
    "\n",
    "\n",
    "* Optional: round the percentage column to two decimal points\n",
    "\n",
    "\n",
    "* Display Age Demographics Table\n"
   ]
  },
  {
   "cell_type": "code",
   "execution_count": 8,
   "metadata": {},
   "outputs": [
    {
     "data": {
      "text/html": [
       "<div>\n",
       "<style scoped>\n",
       "    .dataframe tbody tr th:only-of-type {\n",
       "        vertical-align: middle;\n",
       "    }\n",
       "\n",
       "    .dataframe tbody tr th {\n",
       "        vertical-align: top;\n",
       "    }\n",
       "\n",
       "    .dataframe thead th {\n",
       "        text-align: right;\n",
       "    }\n",
       "</style>\n",
       "<table border=\"1\" class=\"dataframe\">\n",
       "  <thead>\n",
       "    <tr style=\"text-align: right;\">\n",
       "      <th></th>\n",
       "      <th>Total Count</th>\n",
       "      <th>Percentage of Players</th>\n",
       "    </tr>\n",
       "  </thead>\n",
       "  <tbody>\n",
       "    <tr>\n",
       "      <th>&lt;10</th>\n",
       "      <td>17</td>\n",
       "      <td>2.95%</td>\n",
       "    </tr>\n",
       "    <tr>\n",
       "      <th>10-14</th>\n",
       "      <td>22</td>\n",
       "      <td>3.82%</td>\n",
       "    </tr>\n",
       "    <tr>\n",
       "      <th>15-19</th>\n",
       "      <td>107</td>\n",
       "      <td>18.58%</td>\n",
       "    </tr>\n",
       "    <tr>\n",
       "      <th>20-24</th>\n",
       "      <td>258</td>\n",
       "      <td>44.79%</td>\n",
       "    </tr>\n",
       "    <tr>\n",
       "      <th>25-29</th>\n",
       "      <td>77</td>\n",
       "      <td>13.37%</td>\n",
       "    </tr>\n",
       "    <tr>\n",
       "      <th>30-34</th>\n",
       "      <td>52</td>\n",
       "      <td>9.03%</td>\n",
       "    </tr>\n",
       "    <tr>\n",
       "      <th>35-39</th>\n",
       "      <td>31</td>\n",
       "      <td>5.38%</td>\n",
       "    </tr>\n",
       "    <tr>\n",
       "      <th>40+</th>\n",
       "      <td>12</td>\n",
       "      <td>2.08%</td>\n",
       "    </tr>\n",
       "  </tbody>\n",
       "</table>\n",
       "</div>"
      ],
      "text/plain": [
       "       Total Count Percentage of Players\n",
       "<10             17                 2.95%\n",
       "10-14           22                 3.82%\n",
       "15-19          107                18.58%\n",
       "20-24          258                44.79%\n",
       "25-29           77                13.37%\n",
       "30-34           52                 9.03%\n",
       "35-39           31                 5.38%\n",
       "40+             12                 2.08%"
      ]
     },
     "execution_count": 8,
     "metadata": {},
     "output_type": "execute_result"
    }
   ],
   "source": [
    "#Set Bins for Ages\n",
    "#Give a range for the number\n",
    "ageBins = [0, 9.5, 14.5, 19.5, 24.5, 29.5, 34.5, 39.5, 109.5]\n",
    "ageRanges = ['<10', '10-14', '15-19', '20-24', '25-29', '30-34', '35-39', '40+']\n",
    "\n",
    "pDataDf['Age Demographics'] = pd.cut(pDataDf['Age'], ageBins, labels=ageRanges)\n",
    "\n",
    "aDemographicsgroup = pDataDf.groupby('Age Demographics')\n",
    "\n",
    "countDf = aDemographicsgroup.agg({'SN': 'nunique'})\n",
    "totalAge = countDf.sum()\n",
    "percentPlayersDF = round((countDf/totalAge)*100, 2)\n",
    "\n",
    "#Reset the index\n",
    "countDf = countDf.reset_index()\n",
    "percentPlayersDF = percentPlayersDF.reset_index()\n",
    "\n",
    "aDemoDf = countDf.merge(percentPlayersDF, on= 'Age Demographics')\n",
    "aDemoDf.set_index('Age Demographics', inplace = True)\n",
    "\n",
    "aDemoDf = aDemoDf.rename(columns={'SN_x': 'Total Count', \n",
    "                                  'SN_y': 'Percentage of Players'}) \n",
    "\n",
    "aDemoDf[\"Percentage of Players\"] = aDemoDf[\"Percentage of Players\"].map(\"{:.2f}%\".format)\n",
    "\n",
    "#Drop index name 'Age Demographics'\n",
    "aDemoDf.index.name = None\n",
    "\n",
    "aDemoDf\n"
   ]
  },
  {
   "cell_type": "markdown",
   "metadata": {},
   "source": [
    "## Purchasing Analysis (Age)"
   ]
  },
  {
   "cell_type": "markdown",
   "metadata": {},
   "source": [
    "* Bin the purchase_data data frame by age\n",
    "\n",
    "\n",
    "* Run basic calculations to obtain purchase count, avg. purchase price, avg. purchase total per person etc. in the table below\n",
    "\n",
    "\n",
    "* Create a summary data frame to hold the results\n",
    "\n",
    "\n",
    "* Optional: give the displayed data cleaner formatting\n",
    "\n",
    "\n",
    "* Display the summary data frame"
   ]
  },
  {
   "cell_type": "code",
   "execution_count": 9,
   "metadata": {},
   "outputs": [
    {
     "data": {
      "text/html": [
       "<style  type=\"text/css\" >\n",
       "</style><table id=\"T_5ee6f146_879d_11ea_b57b_305a3a896b44\" ><thead>    <tr>        <th class=\"blank level0\" ></th>        <th class=\"col_heading level0 col0\" >Purchase Count</th>        <th class=\"col_heading level0 col1\" >Average Purchase Price</th>        <th class=\"col_heading level0 col2\" >Total Purchase Value</th>        <th class=\"col_heading level0 col3\" >Avg Total Purchase per Person</th>    </tr>    <tr>        <th class=\"index_name level0\" >Age Demographics</th>        <th class=\"blank\" ></th>        <th class=\"blank\" ></th>        <th class=\"blank\" ></th>        <th class=\"blank\" ></th>    </tr></thead><tbody>\n",
       "                <tr>\n",
       "                        <th id=\"T_5ee6f146_879d_11ea_b57b_305a3a896b44level0_row0\" class=\"row_heading level0 row0\" ><10</th>\n",
       "                        <td id=\"T_5ee6f146_879d_11ea_b57b_305a3a896b44row0_col0\" class=\"data row0 col0\" >23</td>\n",
       "                        <td id=\"T_5ee6f146_879d_11ea_b57b_305a3a896b44row0_col1\" class=\"data row0 col1\" >$3.35</td>\n",
       "                        <td id=\"T_5ee6f146_879d_11ea_b57b_305a3a896b44row0_col2\" class=\"data row0 col2\" >$77.13</td>\n",
       "                        <td id=\"T_5ee6f146_879d_11ea_b57b_305a3a896b44row0_col3\" class=\"data row0 col3\" >$4.54</td>\n",
       "            </tr>\n",
       "            <tr>\n",
       "                        <th id=\"T_5ee6f146_879d_11ea_b57b_305a3a896b44level0_row1\" class=\"row_heading level0 row1\" >10-14</th>\n",
       "                        <td id=\"T_5ee6f146_879d_11ea_b57b_305a3a896b44row1_col0\" class=\"data row1 col0\" >28</td>\n",
       "                        <td id=\"T_5ee6f146_879d_11ea_b57b_305a3a896b44row1_col1\" class=\"data row1 col1\" >$2.96</td>\n",
       "                        <td id=\"T_5ee6f146_879d_11ea_b57b_305a3a896b44row1_col2\" class=\"data row1 col2\" >$82.78</td>\n",
       "                        <td id=\"T_5ee6f146_879d_11ea_b57b_305a3a896b44row1_col3\" class=\"data row1 col3\" >$3.76</td>\n",
       "            </tr>\n",
       "            <tr>\n",
       "                        <th id=\"T_5ee6f146_879d_11ea_b57b_305a3a896b44level0_row2\" class=\"row_heading level0 row2\" >15-19</th>\n",
       "                        <td id=\"T_5ee6f146_879d_11ea_b57b_305a3a896b44row2_col0\" class=\"data row2 col0\" >136</td>\n",
       "                        <td id=\"T_5ee6f146_879d_11ea_b57b_305a3a896b44row2_col1\" class=\"data row2 col1\" >$3.04</td>\n",
       "                        <td id=\"T_5ee6f146_879d_11ea_b57b_305a3a896b44row2_col2\" class=\"data row2 col2\" >$412.89</td>\n",
       "                        <td id=\"T_5ee6f146_879d_11ea_b57b_305a3a896b44row2_col3\" class=\"data row2 col3\" >$3.86</td>\n",
       "            </tr>\n",
       "            <tr>\n",
       "                        <th id=\"T_5ee6f146_879d_11ea_b57b_305a3a896b44level0_row3\" class=\"row_heading level0 row3\" >20-24</th>\n",
       "                        <td id=\"T_5ee6f146_879d_11ea_b57b_305a3a896b44row3_col0\" class=\"data row3 col0\" >365</td>\n",
       "                        <td id=\"T_5ee6f146_879d_11ea_b57b_305a3a896b44row3_col1\" class=\"data row3 col1\" >$3.05</td>\n",
       "                        <td id=\"T_5ee6f146_879d_11ea_b57b_305a3a896b44row3_col2\" class=\"data row3 col2\" >$1,114.06</td>\n",
       "                        <td id=\"T_5ee6f146_879d_11ea_b57b_305a3a896b44row3_col3\" class=\"data row3 col3\" >$4.32</td>\n",
       "            </tr>\n",
       "            <tr>\n",
       "                        <th id=\"T_5ee6f146_879d_11ea_b57b_305a3a896b44level0_row4\" class=\"row_heading level0 row4\" >25-29</th>\n",
       "                        <td id=\"T_5ee6f146_879d_11ea_b57b_305a3a896b44row4_col0\" class=\"data row4 col0\" >101</td>\n",
       "                        <td id=\"T_5ee6f146_879d_11ea_b57b_305a3a896b44row4_col1\" class=\"data row4 col1\" >$2.90</td>\n",
       "                        <td id=\"T_5ee6f146_879d_11ea_b57b_305a3a896b44row4_col2\" class=\"data row4 col2\" >$293.00</td>\n",
       "                        <td id=\"T_5ee6f146_879d_11ea_b57b_305a3a896b44row4_col3\" class=\"data row4 col3\" >$3.81</td>\n",
       "            </tr>\n",
       "            <tr>\n",
       "                        <th id=\"T_5ee6f146_879d_11ea_b57b_305a3a896b44level0_row5\" class=\"row_heading level0 row5\" >30-34</th>\n",
       "                        <td id=\"T_5ee6f146_879d_11ea_b57b_305a3a896b44row5_col0\" class=\"data row5 col0\" >73</td>\n",
       "                        <td id=\"T_5ee6f146_879d_11ea_b57b_305a3a896b44row5_col1\" class=\"data row5 col1\" >$2.93</td>\n",
       "                        <td id=\"T_5ee6f146_879d_11ea_b57b_305a3a896b44row5_col2\" class=\"data row5 col2\" >$214.00</td>\n",
       "                        <td id=\"T_5ee6f146_879d_11ea_b57b_305a3a896b44row5_col3\" class=\"data row5 col3\" >$4.12</td>\n",
       "            </tr>\n",
       "            <tr>\n",
       "                        <th id=\"T_5ee6f146_879d_11ea_b57b_305a3a896b44level0_row6\" class=\"row_heading level0 row6\" >35-39</th>\n",
       "                        <td id=\"T_5ee6f146_879d_11ea_b57b_305a3a896b44row6_col0\" class=\"data row6 col0\" >41</td>\n",
       "                        <td id=\"T_5ee6f146_879d_11ea_b57b_305a3a896b44row6_col1\" class=\"data row6 col1\" >$3.60</td>\n",
       "                        <td id=\"T_5ee6f146_879d_11ea_b57b_305a3a896b44row6_col2\" class=\"data row6 col2\" >$147.67</td>\n",
       "                        <td id=\"T_5ee6f146_879d_11ea_b57b_305a3a896b44row6_col3\" class=\"data row6 col3\" >$4.76</td>\n",
       "            </tr>\n",
       "            <tr>\n",
       "                        <th id=\"T_5ee6f146_879d_11ea_b57b_305a3a896b44level0_row7\" class=\"row_heading level0 row7\" >40+</th>\n",
       "                        <td id=\"T_5ee6f146_879d_11ea_b57b_305a3a896b44row7_col0\" class=\"data row7 col0\" >13</td>\n",
       "                        <td id=\"T_5ee6f146_879d_11ea_b57b_305a3a896b44row7_col1\" class=\"data row7 col1\" >$2.94</td>\n",
       "                        <td id=\"T_5ee6f146_879d_11ea_b57b_305a3a896b44row7_col2\" class=\"data row7 col2\" >$38.24</td>\n",
       "                        <td id=\"T_5ee6f146_879d_11ea_b57b_305a3a896b44row7_col3\" class=\"data row7 col3\" >$3.19</td>\n",
       "            </tr>\n",
       "    </tbody></table>"
      ],
      "text/plain": [
       "<pandas.io.formats.style.Styler at 0x194f24c7548>"
      ]
     },
     "execution_count": 9,
     "metadata": {},
     "output_type": "execute_result"
    }
   ],
   "source": [
    "#Do the calculations of the data and group them\n",
    "\n",
    "purchaseID = aDemographicsgroup[\"Purchase ID\"].count()\n",
    "averageP = round(aDemographicsgroup[\"Price\"].mean(), 2)\n",
    "totalPricevalue = round(aDemographicsgroup[\"Price\"].sum(), 2)\n",
    "countTotal = countDf.set_index(\"Age Demographics\")\n",
    "countTotal2 = countTotal.merge(totalPricevalue, on=\"Age Demographics\")\n",
    "totalPricepp= (countTotal2[\"Price\"]/countTotal2[\"SN\"])\n",
    "\n",
    "puAA = pd.DataFrame({'Purchase Count': purchaseID,\n",
    "                     'Average Purchase Price': averageP,\n",
    "                     'Total Purchase Value': totalPricevalue,\n",
    "                     'Avg Total Purchase per Person': totalPricepp})\n",
    "\n",
    "puAA.style.format({'Average Purchase Price': '${:.2f}', \n",
    "                   'Total Purchase Value': '${:,.2f}', \n",
    "                   'Avg Total Purchase per Person': '${:,.2f}'})\n"
   ]
  },
  {
   "cell_type": "markdown",
   "metadata": {},
   "source": [
    "## Top Spenders"
   ]
  },
  {
   "cell_type": "markdown",
   "metadata": {},
   "source": [
    "* Run basic calculations to obtain the results in the table below\n",
    "\n",
    "\n",
    "* Create a summary data frame to hold the results\n",
    "\n",
    "\n",
    "* Sort the total purchase value column in descending order\n",
    "\n",
    "\n",
    "* Optional: give the displayed data cleaner formatting\n",
    "\n",
    "\n",
    "* Display a preview of the summary data frame\n",
    "\n"
   ]
  },
  {
   "cell_type": "code",
   "execution_count": 10,
   "metadata": {},
   "outputs": [
    {
     "data": {
      "text/html": [
       "<div>\n",
       "<style scoped>\n",
       "    .dataframe tbody tr th:only-of-type {\n",
       "        vertical-align: middle;\n",
       "    }\n",
       "\n",
       "    .dataframe tbody tr th {\n",
       "        vertical-align: top;\n",
       "    }\n",
       "\n",
       "    .dataframe thead th {\n",
       "        text-align: right;\n",
       "    }\n",
       "</style>\n",
       "<table border=\"1\" class=\"dataframe\">\n",
       "  <thead>\n",
       "    <tr style=\"text-align: right;\">\n",
       "      <th></th>\n",
       "      <th>Purchase Count</th>\n",
       "      <th>Average Purchase Price</th>\n",
       "      <th>Total Purchase Value</th>\n",
       "    </tr>\n",
       "    <tr>\n",
       "      <th>SN</th>\n",
       "      <th></th>\n",
       "      <th></th>\n",
       "      <th></th>\n",
       "    </tr>\n",
       "  </thead>\n",
       "  <tbody>\n",
       "    <tr>\n",
       "      <th>Lisosia93</th>\n",
       "      <td>5</td>\n",
       "      <td>$3.79</td>\n",
       "      <td>$18.96</td>\n",
       "    </tr>\n",
       "    <tr>\n",
       "      <th>Idastidru52</th>\n",
       "      <td>4</td>\n",
       "      <td>$3.86</td>\n",
       "      <td>$15.45</td>\n",
       "    </tr>\n",
       "    <tr>\n",
       "      <th>Chamjask73</th>\n",
       "      <td>3</td>\n",
       "      <td>$4.61</td>\n",
       "      <td>$13.83</td>\n",
       "    </tr>\n",
       "    <tr>\n",
       "      <th>Iral74</th>\n",
       "      <td>4</td>\n",
       "      <td>$3.40</td>\n",
       "      <td>$13.62</td>\n",
       "    </tr>\n",
       "    <tr>\n",
       "      <th>Iskadarya95</th>\n",
       "      <td>3</td>\n",
       "      <td>$4.37</td>\n",
       "      <td>$13.10</td>\n",
       "    </tr>\n",
       "  </tbody>\n",
       "</table>\n",
       "</div>"
      ],
      "text/plain": [
       "             Purchase Count Average Purchase Price Total Purchase Value\n",
       "SN                                                                     \n",
       "Lisosia93                 5                  $3.79               $18.96\n",
       "Idastidru52               4                  $3.86               $15.45\n",
       "Chamjask73                3                  $4.61               $13.83\n",
       "Iral74                    4                  $3.40               $13.62\n",
       "Iskadarya95               3                  $4.37               $13.10"
      ]
     },
     "execution_count": 10,
     "metadata": {},
     "output_type": "execute_result"
    }
   ],
   "source": [
    "#Find top Spender \n",
    "#Group 'SN'\n",
    "#Sort by top spender\n",
    "topSpenderg = pDataDf.groupby(['SN'])\n",
    "topSpendera = round(topSpenderg['Price'].mean(),2)\n",
    "topSpender = topSpenderg['Price'].sum()\n",
    "topCount = topSpenderg['SN'].count()\n",
    "\n",
    "spender = pd.DataFrame({'Purchase Count': topCount,\n",
    "                        'Average Purchase Price': topSpendera,\n",
    "                        'Total Purchase Value': topSpender})\n",
    "\n",
    "spenderSort = spender.sort_values(by = 'Total Purchase Value', ascending = False)\n",
    "\n",
    "spenderSort['Average Purchase Price'] = spenderSort['Average Purchase Price'].map('${:.2f}'.format)\n",
    "spenderSort['Total Purchase Value'] = spenderSort['Total Purchase Value'].map('${:.2f}'.format)\n",
    "\n",
    "\n",
    "spenderSort.head()"
   ]
  },
  {
   "cell_type": "markdown",
   "metadata": {},
   "source": [
    "## Most Popular Items"
   ]
  },
  {
   "cell_type": "markdown",
   "metadata": {},
   "source": [
    "* Retrieve the Item ID, Item Name, and Item Price columns\n",
    "\n",
    "\n",
    "* Group by Item ID and Item Name. Perform calculations to obtain purchase count, item price, and total purchase value\n",
    "\n",
    "\n",
    "* Create a summary data frame to hold the results\n",
    "\n",
    "\n",
    "* Sort the purchase count column in descending order\n",
    "\n",
    "\n",
    "* Optional: give the displayed data cleaner formatting\n",
    "\n",
    "\n",
    "* Display a preview of the summary data frame\n",
    "\n"
   ]
  },
  {
   "cell_type": "code",
   "execution_count": 11,
   "metadata": {},
   "outputs": [
    {
     "data": {
      "text/html": [
       "<div>\n",
       "<style scoped>\n",
       "    .dataframe tbody tr th:only-of-type {\n",
       "        vertical-align: middle;\n",
       "    }\n",
       "\n",
       "    .dataframe tbody tr th {\n",
       "        vertical-align: top;\n",
       "    }\n",
       "\n",
       "    .dataframe thead th {\n",
       "        text-align: right;\n",
       "    }\n",
       "</style>\n",
       "<table border=\"1\" class=\"dataframe\">\n",
       "  <thead>\n",
       "    <tr style=\"text-align: right;\">\n",
       "      <th></th>\n",
       "      <th></th>\n",
       "      <th>Purchase Count</th>\n",
       "      <th>Item Price</th>\n",
       "      <th>Total Purchase Value</th>\n",
       "    </tr>\n",
       "    <tr>\n",
       "      <th>Item ID</th>\n",
       "      <th>Item Name</th>\n",
       "      <th></th>\n",
       "      <th></th>\n",
       "      <th></th>\n",
       "    </tr>\n",
       "  </thead>\n",
       "  <tbody>\n",
       "    <tr>\n",
       "      <th>92</th>\n",
       "      <th>Final Critic</th>\n",
       "      <td>13</td>\n",
       "      <td>$4.61</td>\n",
       "      <td>$59.99</td>\n",
       "    </tr>\n",
       "    <tr>\n",
       "      <th>178</th>\n",
       "      <th>Oathbreaker, Last Hope of the Breaking Storm</th>\n",
       "      <td>12</td>\n",
       "      <td>$4.23</td>\n",
       "      <td>$50.76</td>\n",
       "    </tr>\n",
       "    <tr>\n",
       "      <th>145</th>\n",
       "      <th>Fiery Glass Crusader</th>\n",
       "      <td>9</td>\n",
       "      <td>$4.58</td>\n",
       "      <td>$41.22</td>\n",
       "    </tr>\n",
       "    <tr>\n",
       "      <th>132</th>\n",
       "      <th>Persuasion</th>\n",
       "      <td>9</td>\n",
       "      <td>$3.22</td>\n",
       "      <td>$28.99</td>\n",
       "    </tr>\n",
       "    <tr>\n",
       "      <th>108</th>\n",
       "      <th>Extraction, Quickblade Of Trembling Hands</th>\n",
       "      <td>9</td>\n",
       "      <td>$3.53</td>\n",
       "      <td>$31.77</td>\n",
       "    </tr>\n",
       "    <tr>\n",
       "      <th>82</th>\n",
       "      <th>Nirvana</th>\n",
       "      <td>9</td>\n",
       "      <td>$4.90</td>\n",
       "      <td>$44.10</td>\n",
       "    </tr>\n",
       "    <tr>\n",
       "      <th>75</th>\n",
       "      <th>Brutality Ivory Warmace</th>\n",
       "      <td>8</td>\n",
       "      <td>$2.42</td>\n",
       "      <td>$19.36</td>\n",
       "    </tr>\n",
       "    <tr>\n",
       "      <th>103</th>\n",
       "      <th>Singed Scalpel</th>\n",
       "      <td>8</td>\n",
       "      <td>$4.35</td>\n",
       "      <td>$34.80</td>\n",
       "    </tr>\n",
       "    <tr>\n",
       "      <th>34</th>\n",
       "      <th>Retribution Axe</th>\n",
       "      <td>8</td>\n",
       "      <td>$2.22</td>\n",
       "      <td>$17.76</td>\n",
       "    </tr>\n",
       "    <tr>\n",
       "      <th>37</th>\n",
       "      <th>Shadow Strike, Glory of Ending Hope</th>\n",
       "      <td>8</td>\n",
       "      <td>$3.16</td>\n",
       "      <td>$25.28</td>\n",
       "    </tr>\n",
       "  </tbody>\n",
       "</table>\n",
       "</div>"
      ],
      "text/plain": [
       "                                                      Purchase Count  \\\n",
       "Item ID Item Name                                                      \n",
       "92      Final Critic                                              13   \n",
       "178     Oathbreaker, Last Hope of the Breaking Storm              12   \n",
       "145     Fiery Glass Crusader                                       9   \n",
       "132     Persuasion                                                 9   \n",
       "108     Extraction, Quickblade Of Trembling Hands                  9   \n",
       "82      Nirvana                                                    9   \n",
       "75      Brutality Ivory Warmace                                    8   \n",
       "103     Singed Scalpel                                             8   \n",
       "34      Retribution Axe                                            8   \n",
       "37      Shadow Strike, Glory of Ending Hope                        8   \n",
       "\n",
       "                                                     Item Price  \\\n",
       "Item ID Item Name                                                 \n",
       "92      Final Critic                                      $4.61   \n",
       "178     Oathbreaker, Last Hope of the Breaking Storm      $4.23   \n",
       "145     Fiery Glass Crusader                              $4.58   \n",
       "132     Persuasion                                        $3.22   \n",
       "108     Extraction, Quickblade Of Trembling Hands         $3.53   \n",
       "82      Nirvana                                           $4.90   \n",
       "75      Brutality Ivory Warmace                           $2.42   \n",
       "103     Singed Scalpel                                    $4.35   \n",
       "34      Retribution Axe                                   $2.22   \n",
       "37      Shadow Strike, Glory of Ending Hope               $3.16   \n",
       "\n",
       "                                                     Total Purchase Value  \n",
       "Item ID Item Name                                                          \n",
       "92      Final Critic                                               $59.99  \n",
       "178     Oathbreaker, Last Hope of the Breaking Storm               $50.76  \n",
       "145     Fiery Glass Crusader                                       $41.22  \n",
       "132     Persuasion                                                 $28.99  \n",
       "108     Extraction, Quickblade Of Trembling Hands                  $31.77  \n",
       "82      Nirvana                                                    $44.10  \n",
       "75      Brutality Ivory Warmace                                    $19.36  \n",
       "103     Singed Scalpel                                             $34.80  \n",
       "34      Retribution Axe                                            $17.76  \n",
       "37      Shadow Strike, Glory of Ending Hope                        $25.28  "
      ]
     },
     "execution_count": 11,
     "metadata": {},
     "output_type": "execute_result"
    }
   ],
   "source": [
    "#Get the Item Id out and then we group by item id and item name \n",
    "#Then do count price, item price, total purchase value\n",
    "#Sort the purchase count column in descending order \n",
    "\n",
    "mostPopitems = pDataDf[['Item ID', 'Item Name', 'Price']]\n",
    "mostPopiG = mostPopitems.groupby(['Item ID','Item Name'])\n",
    "purchaseCount = mostPopiG['Item Name'].count()\n",
    "totalPu = mostPopiG['Price'].sum()\n",
    "itemPrice = totalPu/purchaseCount\n",
    "\n",
    "mpiDf = pd.DataFrame({'Purchase Count': purchaseCount,\n",
    "                    'Item Price': itemPrice,\n",
    "                    'Total Purchase Value': totalPu})\n",
    "\n",
    "mpiSort = mpiDf.sort_values(\"Purchase Count\",ascending=False)\n",
    "\n",
    "#map $ sign\n",
    "mpiSort['Item Price'] = mpiSort['Item Price'].map('${:.2f}'.format)\n",
    "mpiSort['Total Purchase Value'] = mpiSort['Total Purchase Value'].map('${:.2f}'.format)\n",
    "\n",
    "mpiSort.head(10)"
   ]
  },
  {
   "cell_type": "markdown",
   "metadata": {},
   "source": [
    "## Most Profitable Items"
   ]
  },
  {
   "cell_type": "markdown",
   "metadata": {},
   "source": [
    "* Sort the above table by total purchase value in descending order\n",
    "\n",
    "\n",
    "* Optional: give the displayed data cleaner formatting\n",
    "\n",
    "\n",
    "* Display a preview of the data frame\n",
    "\n"
   ]
  },
  {
   "cell_type": "code",
   "execution_count": 13,
   "metadata": {
    "scrolled": true
   },
   "outputs": [
    {
     "ename": "NameError",
     "evalue": "name 'mpi' is not defined",
     "output_type": "error",
     "traceback": [
      "\u001b[1;31m---------------------------------------------------------------------------\u001b[0m",
      "\u001b[1;31mNameError\u001b[0m                                 Traceback (most recent call last)",
      "\u001b[1;32m<ipython-input-13-67a69fe4e170>\u001b[0m in \u001b[0;36m<module>\u001b[1;34m\u001b[0m\n\u001b[0;32m      1\u001b[0m \u001b[1;31m#Sort the data\u001b[0m\u001b[1;33m\u001b[0m\u001b[1;33m\u001b[0m\u001b[1;33m\u001b[0m\u001b[0m\n\u001b[0;32m      2\u001b[0m \u001b[1;33m\u001b[0m\u001b[0m\n\u001b[1;32m----> 3\u001b[1;33m \u001b[0mmpiSort\u001b[0m \u001b[1;33m=\u001b[0m \u001b[0mmpi\u001b[0m\u001b[1;33m.\u001b[0m\u001b[0msort_values\u001b[0m\u001b[1;33m(\u001b[0m\u001b[1;34m\"Total Purchase Value\"\u001b[0m\u001b[1;33m,\u001b[0m\u001b[0mascending\u001b[0m\u001b[1;33m=\u001b[0m\u001b[1;32mFalse\u001b[0m\u001b[1;33m)\u001b[0m\u001b[1;33m\u001b[0m\u001b[1;33m\u001b[0m\u001b[0m\n\u001b[0m\u001b[0;32m      4\u001b[0m \u001b[1;33m\u001b[0m\u001b[0m\n\u001b[0;32m      5\u001b[0m \u001b[0mmpiSort\u001b[0m\u001b[1;33m[\u001b[0m\u001b[1;34m'Item Price'\u001b[0m\u001b[1;33m]\u001b[0m \u001b[1;33m=\u001b[0m \u001b[0mmpiSort\u001b[0m\u001b[1;33m[\u001b[0m\u001b[1;34m'Item Price'\u001b[0m\u001b[1;33m]\u001b[0m\u001b[1;33m.\u001b[0m\u001b[0mmap\u001b[0m\u001b[1;33m(\u001b[0m\u001b[1;34m'${:.2f}'\u001b[0m\u001b[1;33m.\u001b[0m\u001b[0mformat\u001b[0m\u001b[1;33m)\u001b[0m\u001b[1;33m\u001b[0m\u001b[1;33m\u001b[0m\u001b[0m\n",
      "\u001b[1;31mNameError\u001b[0m: name 'mpi' is not defined"
     ]
    }
   ],
   "source": [
    "#Sort the data\n",
    "\n",
    "mpiSort = mpi.sort_values(\"Total Purchase Value\",ascending=False)\n",
    "\n",
    "mpiSort['Item Price'] = mpiSort['Item Price'].map('${:.2f}'.format)\n",
    "mpiSort['Total Purchase Value'] = mpiSort['Total Purchase Value'].map('${:.2f}'.format)\n",
    "\n",
    "mpiSort.head(10)\n"
   ]
  },
  {
   "cell_type": "code",
   "execution_count": null,
   "metadata": {},
   "outputs": [],
   "source": []
  }
 ],
 "metadata": {
  "anaconda-cloud": {},
  "kernel_info": {
   "name": "python3"
  },
  "kernelspec": {
   "display_name": "Python 3",
   "language": "python",
   "name": "python3"
  },
  "language_info": {
   "codemirror_mode": {
    "name": "ipython",
    "version": 3
   },
   "file_extension": ".py",
   "mimetype": "text/x-python",
   "name": "python",
   "nbconvert_exporter": "python",
   "pygments_lexer": "ipython3",
   "version": "3.7.6"
  },
  "latex_envs": {
   "LaTeX_envs_menu_present": true,
   "autoclose": false,
   "autocomplete": true,
   "bibliofile": "biblio.bib",
   "cite_by": "apalike",
   "current_citInitial": 1,
   "eqLabelWithNumbers": true,
   "eqNumInitial": 1,
   "hotkeys": {
    "equation": "Ctrl-E",
    "itemize": "Ctrl-I"
   },
   "labels_anchors": false,
   "latex_user_defs": false,
   "report_style_numbering": false,
   "user_envs_cfg": false
  },
  "nteract": {
   "version": "0.2.0"
  }
 },
 "nbformat": 4,
 "nbformat_minor": 4
}
